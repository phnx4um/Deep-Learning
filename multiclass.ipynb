{
  "nbformat": 4,
  "nbformat_minor": 0,
  "metadata": {
    "colab": {
      "name": "A1Q2.ipynb",
      "provenance": [],
      "collapsed_sections": [],
      "authorship_tag": "ABX9TyPXW288cAKKzkh8BJWZx/Zb",
      "include_colab_link": true
    },
    "kernelspec": {
      "name": "python3",
      "display_name": "Python 3"
    }
  },
  "cells": [
    {
      "cell_type": "markdown",
      "metadata": {
        "id": "view-in-github",
        "colab_type": "text"
      },
      "source": [
        "<a href=\"https://colab.research.google.com/github/phnx4um/Deep-Learning/blob/main/multiclass.ipynb\" target=\"_parent\"><img src=\"https://colab.research.google.com/assets/colab-badge.svg\" alt=\"Open In Colab\"/></a>"
      ]
    },
    {
      "cell_type": "markdown",
      "metadata": {
        "id": "7nURCu8eEm5C"
      },
      "source": [
        "Q2. Multiclass Classification(using 1-of-M encoding):\r\n",
        "Class 3: (12, 12), (11, 12), (12, 11), (11, 11), (12, 13), (13, 12), (13,13).\r\n"
      ]
    },
    {
      "cell_type": "code",
      "metadata": {
        "id": "K1gpcwc4i4B3"
      },
      "source": [
        "import numpy as np\r\n",
        "import pandas as pd\r\n",
        "import random\r\n",
        "import matplotlib.pyplot as plt\r\n",
        "%matplotlib inline "
      ],
      "execution_count": 76,
      "outputs": []
    },
    {
      "cell_type": "code",
      "metadata": {
        "id": "UK2XSx_Rnl2W",
        "colab": {
          "base_uri": "https://localhost:8080/"
        },
        "outputId": "7da91fa8-45c0-4bbb-8719-3cab4ed09974"
      },
      "source": [
        "random.seed(10)\r\n",
        "data = [[15, 10, 0], [13, 6, 0], [14,8, 0], [12, 9, 0], [10, 7, 0],  [12, 6, 0], [11, 8, 0], [13, 10, 0], [10, 6, 0], \r\n",
        "        [8, 12, 1],  [6, 11, 1], [8, 14,1], [9, 14, 1], [10, 15, 1], [9, 12, 1], [7, 10, 1], [8, 13, 1],\r\n",
        "        [12, 12, 2], [11, 12, 2], [12, 11, 2], [11, 11, 2], [12, 13, 2], [13, 12, 2], [13,13, 2]]\r\n",
        "\r\n",
        "\r\n",
        "random.shuffle(data)\r\n",
        "print(data)\r\n",
        "print(len(data))\r\n",
        "\r\n",
        "\r\n",
        "# save some data for testing\r\n",
        "test_samples_num = int(len(data) * 0.2)\r\n",
        "rand_list = random.sample(range(len(data)), test_samples_num)\r\n",
        "print(rand_list)\r\n",
        "\r\n",
        "test_samples = []\r\n",
        "for i in rand_list:\r\n",
        "  test_samples.append(data[i])\r\n",
        "  # remove from main list\r\n",
        "  data.remove(data[i])\r\n",
        "\r\n",
        "\r\n",
        "print(data)\r\n",
        "print(len(data))\r\n",
        "print(test_samples)\r\n",
        "print(len(test_samples))"
      ],
      "execution_count": 173,
      "outputs": [
        {
          "output_type": "stream",
          "text": [
            "[[8, 13, 1], [12, 9, 0], [8, 12, 1], [12, 12, 2], [8, 14, 1], [13, 12, 2], [9, 14, 1], [12, 6, 0], [13, 10, 0], [10, 6, 0], [12, 11, 2], [14, 8, 0], [6, 11, 1], [10, 7, 0], [12, 13, 2], [11, 11, 2], [9, 12, 1], [11, 8, 0], [15, 10, 0], [13, 13, 2], [7, 10, 1], [10, 15, 1], [13, 6, 0], [11, 12, 2]]\n",
            "24\n",
            "[19, 11, 12, 13]\n",
            "[[8, 13, 1], [12, 9, 0], [8, 12, 1], [12, 12, 2], [8, 14, 1], [13, 12, 2], [9, 14, 1], [12, 6, 0], [13, 10, 0], [10, 6, 0], [12, 11, 2], [6, 11, 1], [12, 13, 2], [9, 12, 1], [11, 8, 0], [15, 10, 0], [7, 10, 1], [10, 15, 1], [13, 6, 0], [11, 12, 2]]\n",
            "20\n",
            "[[13, 13, 2], [14, 8, 0], [10, 7, 0], [11, 11, 2]]\n",
            "4\n"
          ],
          "name": "stdout"
        }
      ]
    },
    {
      "cell_type": "code",
      "metadata": {
        "colab": {
          "base_uri": "https://localhost:8080/",
          "height": 302
        },
        "id": "JR4NETANnonL",
        "outputId": "6a0352a1-4b17-4b44-803d-8d3e808e1fe7"
      },
      "source": [
        "print(data)\r\n",
        "\r\n",
        "x = [p[0] for p in data]\r\n",
        "y = [p[1] for p in data]\r\n",
        "l = [p[-1] for p in data]\r\n",
        "\r\n",
        "plt.scatter(x,y,c=l, cmap=plt.cm.winter_r)\r\n",
        "plt.show()"
      ],
      "execution_count": 181,
      "outputs": [
        {
          "output_type": "stream",
          "text": [
            "[[8, 13, 1], [12, 9, 0], [8, 12, 1], [12, 12, 2], [8, 14, 1], [13, 12, 2], [9, 14, 1], [12, 6, 0], [13, 10, 0], [10, 6, 0], [12, 11, 2], [6, 11, 1], [12, 13, 2], [9, 12, 1], [11, 8, 0], [15, 10, 0], [7, 10, 1], [10, 15, 1], [13, 6, 0], [11, 12, 2]]\n"
          ],
          "name": "stdout"
        },
        {
          "output_type": "display_data",
          "data": {
            "image/png": "[encoded data removed]",
            "text/plain": [
              "<Figure size 432x288 with 1 Axes>"
            ]
          },
          "metadata": {
            "tags": [],
            "needs_background": "light"
          }
        }
      ]
    },
    {
      "cell_type": "code",
      "metadata": {
        "id": "GrDz-PTssv7G"
      },
      "source": [
        "def format(data):\r\n",
        "  input = [ point[0:2] for point in data ]\r\n",
        "\r\n",
        "  res = [point[-1] for point in data]\r\n",
        "\r\n",
        "  num_classes = 3\r\n",
        "\r\n",
        "  # One hot encoding\r\n",
        "  output = []\r\n",
        "  for point in data:\r\n",
        "    if (point[-1] == 0):\r\n",
        "      # 1st class\r\n",
        "      output.append([1,0,0])\r\n",
        "    if (point[-1] == 1):\r\n",
        "      # 2nd class\r\n",
        "      output.append([0,1,0])\r\n",
        "    if (point[-1] == 2):\r\n",
        "      # 3rd class\r\n",
        "      output.append([0,0,1])\r\n",
        "\r\n",
        "  input = np.array(input).T\r\n",
        "  output = np.array(output).T\r\n",
        "  print(input)\r\n",
        "  print(output)\r\n",
        "  return input, output"
      ],
      "execution_count": 175,
      "outputs": []
    },
    {
      "cell_type": "code",
      "metadata": {
        "colab": {
          "base_uri": "https://localhost:8080/"
        },
        "id": "joJYc9R0Qtlm",
        "outputId": "25faa6f4-e1e7-4165-abe0-bcb794090fba"
      },
      "source": [
        "input, output = format(data)\r\n",
        "print(input.shape)\r\n",
        "print(output.shape) # one hot encoded output"
      ],
      "execution_count": 176,
      "outputs": [
        {
          "output_type": "stream",
          "text": [
            "[[ 8 12  8 12  8 13  9 12 13 10 12  6 12  9 11 15  7 10 13 11]\n",
            " [13  9 12 12 14 12 14  6 10  6 11 11 13 12  8 10 10 15  6 12]]\n",
            "[[0 1 0 0 0 0 0 1 1 1 0 0 0 0 1 1 0 0 1 0]\n",
            " [1 0 1 0 1 0 1 0 0 0 0 1 0 1 0 0 1 1 0 0]\n",
            " [0 0 0 1 0 1 0 0 0 0 1 0 1 0 0 0 0 0 0 1]]\n",
            "(2, 20)\n",
            "(3, 20)\n"
          ],
          "name": "stdout"
        }
      ]
    },
    {
      "cell_type": "code",
      "metadata": {
        "id": "pPVZrtWWvUIn",
        "colab": {
          "base_uri": "https://localhost:8080/"
        },
        "outputId": "44e59165-b411-4f64-ef18-e37cd122590f"
      },
      "source": [
        "X = input\r\n",
        "y = output\r\n",
        "\r\n",
        "W = np.array([1,1,1,1,1,1]).reshape(2,3)\r\n",
        "\r\n",
        "a = 0.02\r\n",
        "epochs = 10000\r\n",
        "\r\n",
        "# training (vectorised implementation)\r\n",
        "for i in range(epochs):\r\n",
        "  Z = np.dot(W.T, X)\r\n",
        " \r\n",
        "  t = np.exp(Z)\r\n",
        "  A = t / t.sum(0) # softmax calculation\r\n",
        "\r\n",
        "  # error calculation for this iteration\r\n",
        "  l = np.multiply(np.log(A),y)\r\n",
        "  l = -l.sum(0)\r\n",
        "  l = 1/len(l) * l.sum()\r\n",
        "\r\n",
        "  if (i % 500 == 0):\r\n",
        "    print(f'Error = {l} (Epoch {i})')\r\n",
        "\r\n",
        "  dz = A - y  #dz short for dL/dz(derivative loss wrt z)\r\n",
        "  dw = 1/X.shape[1] * np.dot(X, dz.T)\r\n",
        "\r\n",
        "  W = W - (a * dw) # updating weights\r\n",
        "\r\n",
        "# final weights after training\r\n",
        "print(W)\r\n",
        "\r\n",
        "\r\n"
      ],
      "execution_count": 177,
      "outputs": [
        {
          "output_type": "stream",
          "text": [
            "Error = 1.0986122886681098 (Epoch 0)\n",
            "Error = 0.13649601897307626 (Epoch 500)\n",
            "Error = 0.08630063820374369 (Epoch 1000)\n",
            "Error = 0.06459378954018406 (Epoch 1500)\n",
            "Error = 0.052096959110423294 (Epoch 2000)\n",
            "Error = 0.04386089221430008 (Epoch 2500)\n",
            "Error = 0.03797990431264374 (Epoch 3000)\n",
            "Error = 0.033550042389400354 (Epoch 3500)\n",
            "Error = 0.0300828251207249 (Epoch 4000)\n",
            "Error = 0.027289413217473375 (Epoch 4500)\n",
            "Error = 0.0249873155391269 (Epoch 5000)\n",
            "Error = 0.0230552055472823 (Epoch 5500)\n",
            "Error = 0.021409089037430874 (Epoch 6000)\n",
            "Error = 0.01998886734871949 (Epoch 6500)\n",
            "Error = 0.01875034424670042 (Epoch 7000)\n",
            "Error = 0.017660256406227825 (Epoch 7500)\n",
            "Error = 0.016693067166027264 (Epoch 8000)\n",
            "Error = 0.015828831638275535 (Epoch 8500)\n",
            "Error = 0.015051735993421633 (Epoch 9000)\n",
            "Error = 0.014349074046727152 (Epoch 9500)\n",
            "[[ 3.97780968 -2.0653954   1.08758572]\n",
            " [-2.16211835  3.88793799  1.27418036]]\n"
          ],
          "name": "stdout"
        }
      ]
    },
    {
      "cell_type": "markdown",
      "metadata": {
        "id": "6HikgEY8vdtC"
      },
      "source": [
        "#TESTING"
      ]
    },
    {
      "cell_type": "code",
      "metadata": {
        "id": "qRV1NXu2eTnP",
        "colab": {
          "base_uri": "https://localhost:8080/"
        },
        "outputId": "1539065b-92ba-456c-90f2-528a60cbf682"
      },
      "source": [
        "# testing on test set\r\n",
        "input, output = format(test_samples)"
      ],
      "execution_count": 178,
      "outputs": [
        {
          "output_type": "stream",
          "text": [
            "[[13 14 10 11]\n",
            " [13  8  7 11]]\n",
            "[[0 1 1 0]\n",
            " [0 0 0 0]\n",
            " [1 0 0 1]]\n"
          ],
          "name": "stdout"
        }
      ]
    },
    {
      "cell_type": "code",
      "metadata": {
        "colab": {
          "base_uri": "https://localhost:8080/"
        },
        "id": "_Q2m5llmhpiX",
        "outputId": "edf0b32b-ed50-464b-8cb9-c6902a8a4d21"
      },
      "source": [
        "acc = []\r\n",
        "for i in range(input.shape[1]):\r\n",
        "  print(f'TEST SAMPLE {i+1}: {input[:,i]}\\n') \r\n",
        "  res = np.dot(W.T, input[:,i].reshape(2,1))\r\n",
        "  t = np.exp(res)\r\n",
        "  A = t / np.sum(t)\r\n",
        "\r\n",
        "  print('Prediction')\r\n",
        "  print(A)\r\n",
        "  print('Target')\r\n",
        "  print(output[:,i].reshape(3,1))\r\n",
        "  \r\n",
        "  print('\\n============================\\n')\r\n",
        "\r\n",
        "  pred_col = np.argmax(A, 0)\r\n",
        "  target_col = np.argmax(output[:,i].reshape(3,1), 0)\r\n",
        "\r\n",
        "  if (pred_col[0] == target_col[0]):\r\n",
        "    acc.append(1)\r\n",
        "\r\n",
        "print(f'Correct Predictions: {sum(acc)} off {len(acc)}')\r\n",
        "\r\n"
      ],
      "execution_count": 179,
      "outputs": [
        {
          "output_type": "stream",
          "text": [
            "TEST SAMPLE 1: [13 13]\n",
            "\n",
            "Prediction\n",
            "[[8.24528205e-04]\n",
            " [9.01335705e-04]\n",
            " [9.98274136e-01]]\n",
            "Target\n",
            "[[0]\n",
            " [0]\n",
            " [1]]\n",
            "\n",
            "============================\n",
            "\n",
            "TEST SAMPLE 2: [14  8]\n",
            "\n",
            "Prediction\n",
            "[[9.99997677e-01]\n",
            " [1.89068421e-16]\n",
            " [2.32277490e-06]]\n",
            "Target\n",
            "[[1]\n",
            " [0]\n",
            " [0]]\n",
            "\n",
            "============================\n",
            "\n",
            "TEST SAMPLE 3: [10  7]\n",
            "\n",
            "Prediction\n",
            "[[9.92218134e-01]\n",
            " [1.39265506e-08]\n",
            " [7.78185239e-03]]\n",
            "Target\n",
            "[[1]\n",
            " [0]\n",
            " [0]]\n",
            "\n",
            "============================\n",
            "\n",
            "TEST SAMPLE 4: [11 11]\n",
            "\n",
            "Prediction\n",
            "[[0.00244937]\n",
            " [0.00264109]\n",
            " [0.99490954]]\n",
            "Target\n",
            "[[0]\n",
            " [0]\n",
            " [1]]\n",
            "\n",
            "============================\n",
            "\n",
            "Correct Predictions: 4 off 4\n"
          ],
          "name": "stdout"
        }
      ]
    },
    {
      "cell_type": "code",
      "metadata": {
        "id": "BMXFUQTChwfp"
      },
      "source": [
        ""
      ],
      "execution_count": null,
      "outputs": []
    }
  ]
}