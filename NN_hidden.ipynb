{
  "nbformat": 4,
  "nbformat_minor": 0,
  "metadata": {
    "colab": {
      "name": "A2Q1.ipynb",
      "provenance": [],
      "authorship_tag": "ABX9TyP+mfIeHYfZoMb7MgehfjrC",
      "include_colab_link": true
    },
    "kernelspec": {
      "name": "python3",
      "display_name": "Python 3"
    }
  },
  "cells": [
    {
      "cell_type": "markdown",
      "metadata": {
        "id": "view-in-github",
        "colab_type": "text"
      },
      "source": [
        "<a href=\"https://colab.research.google.com/github/phnx4um/Deep-Learning/blob/main/NN_hidden.ipynb\" target=\"_parent\"><img src=\"https://colab.research.google.com/assets/colab-badge.svg\" alt=\"Open In Colab\"/></a>"
      ]
    },
    {
      "cell_type": "markdown",
      "metadata": {
        "id": "SoToUmJOEKPA"
      },
      "source": [
        "Apply a Multi Layer Perceptron to classify the 2-class data:\r\n",
        "Class 1: (9,9), (10,10), (9,10), (10,9), (11,11), (10,11), (11,10)\r\n",
        "Class 2: (12,9), (9,12), (14,10), (9,13), (10,13), (11,8), (8,12)"
      ]
    },
    {
      "cell_type": "code",
      "metadata": {
        "id": "-fvP9u8Lw_PQ"
      },
      "source": [
        "import numpy as np\r\n",
        "import matplotlib.pyplot as plt"
      ],
      "execution_count": 1,
      "outputs": []
    },
    {
      "cell_type": "code",
      "metadata": {
        "colab": {
          "base_uri": "https://localhost:8080/"
        },
        "id": "LkU5uH2049Q4",
        "outputId": "5b1583fc-ea6f-4679-b589-e909a41247c3"
      },
      "source": [
        "data= [[9,9], [10,10], [9,1], [10,9], [11,11], [10,11], [11,10],\r\n",
        "       [12,9], [9,12], [14,10], [9,13], [10,13], [11,8], [8,12]]\r\n",
        "\r\n",
        "labels = [0,0,0,0,0,0,0,1,1,1,1,1,1,1]\r\n",
        "\r\n",
        "data_set = np.array(data)\r\n",
        "labels = np.array(labels)\r\n",
        "\r\n",
        "labels = labels.reshape(14,1)\r\n",
        "\r\n",
        "print(data_set.shape)\r\n",
        "print(labels.shape)"
      ],
      "execution_count": 24,
      "outputs": [
        {
          "output_type": "stream",
          "text": [
            "(14, 2)\n",
            "(14, 1)\n"
          ],
          "name": "stdout"
        }
      ]
    },
    {
      "cell_type": "code",
      "metadata": {
        "colab": {
          "base_uri": "https://localhost:8080/",
          "height": 445
        },
        "id": "EVwbCveyAP2o",
        "outputId": "328c327e-f71a-40b3-fcd7-a15ccd75fb23"
      },
      "source": [
        "plt.figure(figsize=(10,7))\r\n",
        "plt.scatter(data_set[:,0], data_set[:,1], c=labels, cmap=plt.cm.winter_r)"
      ],
      "execution_count": 21,
      "outputs": [
        {
          "output_type": "execute_result",
          "data": {
            "text/plain": [
              "<matplotlib.collections.PathCollection at 0x7f87c109fb00>"
            ]
          },
          "metadata": {
            "tags": []
          },
          "execution_count": 21
        },
        {
          "output_type": "display_data",
          "data": {
            "image/png": "[encoded data removed]",
            "text/plain": [
              "<Figure size 720x504 with 1 Axes>"
            ]
          },
          "metadata": {
            "tags": [],
            "needs_background": "light"
          }
        }
      ]
    },
    {
      "cell_type": "code",
      "metadata": {
        "colab": {
          "base_uri": "https://localhost:8080/"
        },
        "id": "hTssyf5B4-Vc",
        "outputId": "48d8c144-73d4-448c-a389-983c4dfee29e"
      },
      "source": [
        "np.random.seed(0)\r\n",
        "\r\n",
        "def sigmoid(x):\r\n",
        "    return 1/(1+np.exp(-x))\r\n",
        "\r\n",
        "def sigmoid_der(x):\r\n",
        "    return sigmoid(x) *(1-sigmoid (x))\r\n",
        "\r\n",
        "wh = np.random.rand(len(data_set[0]),4) \r\n",
        "wo = np.random.rand(4, 1)\r\n",
        "lr = 0.02\r\n",
        "\r\n",
        "for epoch in range(200000):\r\n",
        "    # feedforward\r\n",
        "    zh = np.dot(data_set, wh)\r\n",
        "    ah = sigmoid(zh)\r\n",
        "\r\n",
        "    zo = np.dot(ah, wo)\r\n",
        "    ao = sigmoid(zo)\r\n",
        "\r\n",
        "\r\n",
        "    error_out = ((1 / 2) * (np.power((ao - labels), 2)))\r\n",
        "    if (epoch % 5000 == 0):\r\n",
        "      print(f'Error = {error_out.sum()} (Epoch {epoch})')\r\n",
        "\r\n",
        "    dcost_dao = ao - labels\r\n",
        "    dao_dzo = sigmoid_der(zo) \r\n",
        "    dzo_dwo = ah\r\n",
        "\r\n",
        "    dcost_wo = np.dot(dzo_dwo.T, dcost_dao * dao_dzo)\r\n",
        "\r\n",
        "  \r\n",
        "    # dcost_w1 = dcost_dah * dah_dzh * dzh_dw1\r\n",
        "    # dcost_dah = dcost_dzo * dzo_dah\r\n",
        "    dcost_dzo = dcost_dao * dao_dzo\r\n",
        "    dzo_dah = wo\r\n",
        "    dcost_dah = np.dot(dcost_dzo , dzo_dah.T)\r\n",
        "    dah_dzh = sigmoid_der(zh) \r\n",
        "    dzh_dwh = data_set\r\n",
        "    dcost_wh = np.dot(dzh_dwh.T, dah_dzh * dcost_dah)\r\n",
        "\r\n",
        "    #update weightss\r\n",
        "\r\n",
        "    wh -= lr * dcost_wh\r\n",
        "    wo -= lr * dcost_wo"
      ],
      "execution_count": 31,
      "outputs": [
        {
          "output_type": "stream",
          "text": [
            "Error = 3.0746299249774136 (Epoch 0)\n",
            "Error = 1.110702768216309 (Epoch 5000)\n",
            "Error = 1.0592975366832234 (Epoch 10000)\n",
            "Error = 1.0550466906897065 (Epoch 15000)\n",
            "Error = 1.0534725623449799 (Epoch 20000)\n",
            "Error = 1.052649260077365 (Epoch 25000)\n",
            "Error = 1.052141541005019 (Epoch 30000)\n",
            "Error = 1.051796065071887 (Epoch 35000)\n",
            "Error = 1.0515446774941386 (Epoch 40000)\n",
            "Error = 1.0513520491444526 (Epoch 45000)\n",
            "Error = 1.0511971345574236 (Epoch 50000)\n",
            "Error = 1.0510639117689544 (Epoch 55000)\n",
            "Error = 1.0509268758193744 (Epoch 60000)\n",
            "Error = 1.0504624617964884 (Epoch 65000)\n",
            "Error = 1.0103955378889191 (Epoch 70000)\n",
            "Error = 1.004217270707221 (Epoch 75000)\n",
            "Error = 1.0027490082309012 (Epoch 80000)\n",
            "Error = 1.0020987728345065 (Epoch 85000)\n",
            "Error = 1.0017276695557122 (Epoch 90000)\n",
            "Error = 1.0014845185602805 (Epoch 95000)\n",
            "Error = 1.001310865276003 (Epoch 100000)\n",
            "Error = 1.0011793925769146 (Epoch 105000)\n",
            "Error = 1.0010756085935726 (Epoch 110000)\n",
            "Error = 1.0009910896786536 (Epoch 115000)\n",
            "Error = 1.0009205888165573 (Epoch 120000)\n",
            "Error = 1.0008606556460935 (Epoch 125000)\n",
            "Error = 1.0008089201429096 (Epoch 130000)\n",
            "Error = 1.0007636950343404 (Epoch 135000)\n",
            "Error = 1.0007237427020115 (Epoch 140000)\n",
            "Error = 1.0006881321351424 (Epoch 145000)\n",
            "Error = 1.0006561476824947 (Epoch 150000)\n",
            "Error = 1.0006272288801281 (Epoch 155000)\n",
            "Error = 1.0006009296110414 (Epoch 160000)\n",
            "Error = 1.0005768896769462 (Epoch 165000)\n",
            "Error = 1.000554814563792 (Epoch 170000)\n",
            "Error = 1.0005344607511284 (Epoch 175000)\n",
            "Error = 1.0005156248556966 (Epoch 180000)\n",
            "Error = 1.000498135479668 (Epoch 185000)\n",
            "Error = 1.0004818470009789 (Epoch 190000)\n",
            "Error = 1.0004666347808815 (Epoch 195000)\n"
          ],
          "name": "stdout"
        }
      ]
    },
    {
      "cell_type": "markdown",
      "metadata": {
        "id": "nRD9gTfzETqo"
      },
      "source": [
        "# Final Output"
      ]
    },
    {
      "cell_type": "code",
      "metadata": {
        "colab": {
          "base_uri": "https://localhost:8080/"
        },
        "id": "UNxY84Pf5FmY",
        "outputId": "b123260c-1017-4e89-dea0-b6a93008f383"
      },
      "source": [
        "print(wh)\r\n",
        "print(wo)"
      ],
      "execution_count": 32,
      "outputs": [
        {
          "output_type": "stream",
          "text": [
            "[[-5.85176653  0.88591599 -0.71107527  0.79451604]\n",
            " [ 4.60246735  0.66877387  2.33448887  0.92001793]]\n",
            "[[ 6.45172421]\n",
            " [-2.13957145]\n",
            " [ 3.38416345]\n",
            " [-1.93819338]]\n"
          ],
          "name": "stdout"
        }
      ]
    },
    {
      "cell_type": "code",
      "metadata": {
        "id": "GShc1YO-EEDW"
      },
      "source": [
        ""
      ],
      "execution_count": null,
      "outputs": []
    }
  ]
}